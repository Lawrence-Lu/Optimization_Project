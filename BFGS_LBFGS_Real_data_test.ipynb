{
 "cells": [
  {
   "cell_type": "code",
   "execution_count": 1,
   "metadata": {},
   "outputs": [
    {
     "name": "stderr",
     "output_type": "stream",
     "text": [
      "C:\\Users\\15161\\Anaconda3\\lib\\site-packages\\numpy\\core\\getlimits.py:180: RuntimeWarning: divide by zero encountered in exp2\n",
      "  eps=exp2(_ld(-112)),\n",
      "C:\\Users\\15161\\Anaconda3\\lib\\site-packages\\numpy\\core\\getlimits.py:81: RuntimeWarning: divide by zero encountered in log10\n",
      "  self.precision = int(-log10(self.eps))\n",
      "C:\\Users\\15161\\Anaconda3\\lib\\site-packages\\numpy\\core\\getlimits.py:82: RuntimeWarning: divide by zero encountered in power\n",
      "  self.resolution = float_to_float(float_conv(10) ** (-self.precision))\n",
      "C:\\Users\\15161\\Anaconda3\\lib\\site-packages\\numpy\\core\\getlimits.py:186: RuntimeWarning: divide by zero encountered in exp2\n",
      "  _epsneg_f80 = exp2(_ld(-64))\n",
      "C:\\Users\\15161\\Anaconda3\\lib\\site-packages\\numpy\\core\\getlimits.py:187: RuntimeWarning: divide by zero encountered in exp2\n",
      "  _tiny_f80 = exp2(_ld(-16382))\n",
      "C:\\Users\\15161\\Anaconda3\\lib\\site-packages\\numpy\\core\\getlimits.py:201: RuntimeWarning: divide by zero encountered in exp2\n",
      "  eps=exp2(_ld(-63)),\n",
      "C:\\Users\\15161\\Anaconda3\\lib\\site-packages\\numpy\\core\\getlimits.py:211: RuntimeWarning: divide by zero encountered in nextafter\n",
      "  if hasattr(umath, 'nextafter')  # Missing on some platforms?\n",
      "C:\\Users\\15161\\Anaconda3\\lib\\site-packages\\numpy\\core\\getlimits.py:223: RuntimeWarning: divide by zero encountered in exp2\n",
      "  eps=exp2(_ld(-105)),\n",
      "C:\\Users\\15161\\Anaconda3\\lib\\site-packages\\numpy\\core\\getlimits.py:224: RuntimeWarning: divide by zero encountered in exp2\n",
      "  epsneg= exp2(_ld(-106)),\n",
      "C:\\Users\\15161\\Anaconda3\\lib\\site-packages\\numpy\\core\\getlimits.py:226: RuntimeWarning: divide by zero encountered in exp2\n",
      "  tiny=exp2(_ld(-1022)))\n",
      "C:\\Users\\15161\\Anaconda3\\lib\\site-packages\\numpy\\lib\\scimath.py:32: RuntimeWarning: divide by zero encountered in log\n",
      "  _ln2 = nx.log(2.0)\n",
      "C:\\Users\\15161\\Anaconda3\\lib\\importlib\\_bootstrap.py:219: RuntimeWarning: divide by zero encountered in sqrt\n",
      "  return f(*args, **kwds)\n",
      "C:\\Users\\15161\\Anaconda3\\lib\\importlib\\_bootstrap.py:219: RuntimeWarning: divide by zero encountered in double_scalars\n",
      "  return f(*args, **kwds)\n",
      "C:\\Users\\15161\\Anaconda3\\lib\\site-packages\\numpy\\__init__.py:219: RuntimeWarning: divide by zero encountered in subtract\n",
      "  if not abs(x.dot(x) - 2.0) < 1e-5:\n",
      "C:\\Users\\15161\\Anaconda3\\lib\\site-packages\\numpy\\__init__.py:219: RuntimeWarning: divide by zero encountered in absolute\n",
      "  if not abs(x.dot(x) - 2.0) < 1e-5:\n",
      "C:\\Users\\15161\\Anaconda3\\lib\\site-packages\\numpy\\core\\function_base.py:108: RuntimeWarning: divide by zero encountered in multiply\n",
      "  start = asanyarray(start) * 1.0\n",
      "C:\\Users\\15161\\Anaconda3\\lib\\site-packages\\numpy\\core\\function_base.py:109: RuntimeWarning: divide by zero encountered in multiply\n",
      "  stop  = asanyarray(stop)  * 1.0\n",
      "C:\\Users\\15161\\Anaconda3\\lib\\site-packages\\numpy\\core\\function_base.py:117: RuntimeWarning: divide by zero encountered in double_scalars\n",
      "  delta = stop - start\n",
      "C:\\Users\\15161\\Anaconda3\\lib\\site-packages\\numpy\\core\\function_base.py:123: RuntimeWarning: divide by zero encountered in double_scalars\n",
      "  step = delta / div\n",
      "C:\\Users\\15161\\Anaconda3\\lib\\site-packages\\numpy\\core\\function_base.py:133: RuntimeWarning: divide by zero encountered in multiply\n",
      "  y *= step\n",
      "C:\\Users\\15161\\Anaconda3\\lib\\site-packages\\numpy\\core\\function_base.py:142: RuntimeWarning: divide by zero encountered in add\n",
      "  y += start\n",
      "C:\\Users\\15161\\Anaconda3\\lib\\site-packages\\matplotlib\\path.py:206: RuntimeWarning: divide by zero encountered in isfinite\n",
      "  self._has_nonfinite = not np.isfinite(self._vertices).all()\n",
      "C:\\Users\\15161\\Anaconda3\\lib\\site-packages\\numpy\\core\\_methods.py:46: RuntimeWarning: divide by zero encountered in reduce\n",
      "  return umr_all(a, axis, dtype, out, keepdims)\n",
      "C:\\Users\\15161\\Anaconda3\\lib\\site-packages\\matplotlib\\path.py:142: RuntimeWarning: divide by zero encountered in not_equal\n",
      "  if len(codes) and codes[0] != self.MOVETO:\n",
      "C:\\Users\\15161\\Anaconda3\\lib\\site-packages\\matplotlib\\collections.py:29: RuntimeWarning: divide by zero encountered in sqrt\n",
      "  CIRCLE_AREA_FACTOR = 1.0 / np.sqrt(np.pi)\n",
      "C:\\Users\\15161\\Anaconda3\\lib\\site-packages\\matplotlib\\collections.py:29: RuntimeWarning: divide by zero encountered in double_scalars\n",
      "  CIRCLE_AREA_FACTOR = 1.0 / np.sqrt(np.pi)\n",
      "C:\\Users\\15161\\Anaconda3\\lib\\site-packages\\matplotlib\\tri\\triinterpolate.py:688: RuntimeWarning: divide by zero encountered in true_divide\n",
      "  gauss_w = np.ones([9], dtype=np.float64) / 9.\n",
      "C:\\Users\\15161\\Anaconda3\\lib\\site-packages\\scipy\\optimize\\optimize.py:153: RuntimeWarning: divide by zero encountered in sqrt\n",
      "  _epsilon = sqrt(numpy.finfo(float).eps)\n",
      "C:\\Users\\15161\\Anaconda3\\lib\\site-packages\\scipy\\optimize\\_numdiff.py:94: RuntimeWarning: divide by zero encountered in double_scalars\n",
      "  relative_step = {\"2-point\": EPS**0.5,\n",
      "C:\\Users\\15161\\Anaconda3\\lib\\site-packages\\scipy\\optimize\\_numdiff.py:95: RuntimeWarning: divide by zero encountered in double_scalars\n",
      "  \"3-point\": EPS**(1/3),\n",
      "C:\\Users\\15161\\Anaconda3\\lib\\site-packages\\scipy\\optimize\\_numdiff.py:96: RuntimeWarning: divide by zero encountered in double_scalars\n",
      "  \"cs\": EPS**0.5}\n",
      "C:\\Users\\15161\\Anaconda3\\lib\\site-packages\\scipy\\optimize\\slsqp.py:28: RuntimeWarning: divide by zero encountered in sqrt\n",
      "  _epsilon = sqrt(finfo(float).eps)\n",
      "C:\\Users\\15161\\Anaconda3\\lib\\site-packages\\scipy\\optimize\\zeros.py:10: RuntimeWarning: divide by zero encountered in double_scalars\n",
      "  _rtol = 4*finfo(float).eps\n",
      "C:\\Users\\15161\\Anaconda3\\lib\\site-packages\\scipy\\integrate\\_ivp\\common.py:231: RuntimeWarning: divide by zero encountered in double_scalars\n",
      "  NUM_JAC_DIFF_REJECT = EPS ** 0.875\n",
      "C:\\Users\\15161\\Anaconda3\\lib\\site-packages\\scipy\\integrate\\_ivp\\common.py:232: RuntimeWarning: divide by zero encountered in double_scalars\n",
      "  NUM_JAC_DIFF_SMALL = EPS ** 0.75\n",
      "C:\\Users\\15161\\Anaconda3\\lib\\site-packages\\scipy\\integrate\\_ivp\\common.py:233: RuntimeWarning: divide by zero encountered in double_scalars\n",
      "  NUM_JAC_DIFF_BIG = EPS ** 0.25\n",
      "C:\\Users\\15161\\Anaconda3\\lib\\site-packages\\scipy\\integrate\\_ivp\\common.py:234: RuntimeWarning: divide by zero encountered in double_scalars\n",
      "  NUM_JAC_MIN_FACTOR = 1e3 * EPS\n",
      "C:\\Users\\15161\\Anaconda3\\lib\\site-packages\\scipy\\integrate\\_ivp\\radau.py:15: RuntimeWarning: divide by zero encountered in true_divide\n",
      "  E = np.array([-13 - 7 * S6, -13 + 7 * S6, -1]) / 3\n",
      "C:\\Users\\15161\\Anaconda3\\lib\\site-packages\\scipy\\integrate\\_ivp\\radau.py:34: RuntimeWarning: divide by zero encountered in multiply\n",
      "  TI_COMPLEX = TI[1] + 1j * TI[2]\n",
      "C:\\Users\\15161\\Anaconda3\\lib\\site-packages\\scipy\\integrate\\_ivp\\radau.py:34: RuntimeWarning: divide by zero encountered in add\n",
      "  TI_COMPLEX = TI[1] + 1j * TI[2]\n",
      "C:\\Users\\15161\\Anaconda3\\lib\\site-packages\\scipy\\stats\\_constants.py:18: RuntimeWarning: divide by zero encountered in log\n",
      "  _LOGXMAX = np.log(_XMAX)\n",
      "C:\\Users\\15161\\Anaconda3\\lib\\site-packages\\scipy\\stats\\_continuous_distns.py:77: RuntimeWarning: divide by zero encountered in sqrt\n",
      "  _norm_pdf_C = np.sqrt(2*np.pi)\n",
      "C:\\Users\\15161\\Anaconda3\\lib\\site-packages\\scipy\\stats\\_continuous_distns.py:78: RuntimeWarning: divide by zero encountered in log\n",
      "  _norm_pdf_logC = np.log(_norm_pdf_C)\n",
      "C:\\Users\\15161\\Anaconda3\\lib\\site-packages\\scipy\\special\\basic.py:759: RuntimeWarning: divide by zero encountered in ndtri\n",
      "  return ndtri((y+1)/2.0)/sqrt(2)\n",
      "C:\\Users\\15161\\Anaconda3\\lib\\site-packages\\scipy\\special\\basic.py:759: RuntimeWarning: divide by zero encountered in sqrt\n",
      "  return ndtri((y+1)/2.0)/sqrt(2)\n",
      "C:\\Users\\15161\\Anaconda3\\lib\\site-packages\\scipy\\special\\basic.py:759: RuntimeWarning: divide by zero encountered in double_scalars\n",
      "  return ndtri((y+1)/2.0)/sqrt(2)\n",
      "C:\\Users\\15161\\Anaconda3\\lib\\site-packages\\scipy\\stats\\stats.py:2311: RuntimeWarning: divide by zero encountered in double_scalars\n",
      "  'normal': special.erfinv(0.5) * 2.0 * math.sqrt(2.0)}\n",
      "C:\\Users\\15161\\Anaconda3\\lib\\site-packages\\scipy\\stats\\_multivariate.py:28: RuntimeWarning: divide by zero encountered in log\n",
      "  _LOG_2PI = np.log(2 * np.pi)\n",
      "C:\\Users\\15161\\Anaconda3\\lib\\site-packages\\scipy\\stats\\_multivariate.py:29: RuntimeWarning: divide by zero encountered in log\n",
      "  _LOG_2 = np.log(2)\n",
      "C:\\Users\\15161\\Anaconda3\\lib\\site-packages\\scipy\\stats\\_multivariate.py:30: RuntimeWarning: divide by zero encountered in log\n",
      "  _LOG_PI = np.log(np.pi)\n",
      "C:\\Users\\15161\\Anaconda3\\lib\\site-packages\\pandas\\tseries\\offsets.py:2215: RuntimeWarning: divide by zero encountered in add\n",
      "  _inc = Timedelta(microseconds=1000)\n",
      "C:\\Users\\15161\\Anaconda3\\lib\\site-packages\\pandas\\tseries\\offsets.py:2336: RuntimeWarning: divide by zero encountered in add\n",
      "  _inc = Timedelta(days=1)\n",
      "C:\\Users\\15161\\Anaconda3\\lib\\site-packages\\pandas\\tseries\\offsets.py:2341: RuntimeWarning: divide by zero encountered in add\n",
      "  _inc = Timedelta(hours=1)\n",
      "C:\\Users\\15161\\Anaconda3\\lib\\site-packages\\pandas\\tseries\\offsets.py:2346: RuntimeWarning: divide by zero encountered in add\n",
      "  _inc = Timedelta(minutes=1)\n",
      "C:\\Users\\15161\\Anaconda3\\lib\\site-packages\\pandas\\tseries\\offsets.py:2351: RuntimeWarning: divide by zero encountered in add\n",
      "  _inc = Timedelta(seconds=1)\n",
      "C:\\Users\\15161\\Anaconda3\\lib\\site-packages\\pandas\\tseries\\offsets.py:2356: RuntimeWarning: divide by zero encountered in add\n",
      "  _inc = Timedelta(milliseconds=1)\n",
      "C:\\Users\\15161\\Anaconda3\\lib\\site-packages\\pandas\\tseries\\offsets.py:2361: RuntimeWarning: divide by zero encountered in add\n",
      "  _inc = Timedelta(microseconds=1)\n",
      "C:\\Users\\15161\\Anaconda3\\lib\\site-packages\\pandas\\tseries\\offsets.py:2366: RuntimeWarning: divide by zero encountered in add\n",
      "  _inc = Timedelta(nanoseconds=1)\n"
     ]
    }
   ],
   "source": [
    "from plot import *\n",
    "from gen import *\n",
    "from load_data import *  \n",
    "from func_tools import *\n",
    "from AGM import *\n",
    "from GM import *\n",
    "from BFGS import *\n",
    "from LBFGS import *\n",
    "\n",
    "import warnings\n",
    "warnings.filterwarnings('ignore')"
   ]
  },
  {
   "cell_type": "code",
   "execution_count": 2,
   "metadata": {},
   "outputs": [
    {
     "data": {
      "text/plain": [
       "<matplotlib.rc_context at 0x1398cb70>"
      ]
     },
     "execution_count": 2,
     "metadata": {},
     "output_type": "execute_result"
    }
   ],
   "source": [
    "plt.rc_context({'axes.edgecolor':'orange', 'xtick.color':'green', 'ytick.color':'green', 'figure.facecolor':'white'})"
   ]
  },
  {
   "cell_type": "markdown",
   "metadata": {},
   "source": [
    "## Load Real Data"
   ]
  },
  {
   "cell_type": "code",
   "execution_count": 36,
   "metadata": {},
   "outputs": [],
   "source": [
    "points,wine_label = load_wine_dense()\n",
    "# points,vowel_label = load_vowel_dense()"
   ]
  },
  {
   "cell_type": "markdown",
   "metadata": {},
   "source": [
    "## AGM"
   ]
  },
  {
   "cell_type": "code",
   "execution_count": 29,
   "metadata": {},
   "outputs": [],
   "source": [
    "lbd = 0.05\n",
    "delta = 1e-3\n",
    "n = len(points)\n",
    "step = step_size(n,lbd,delta)\n",
    "grad = lambda X,B,D: grad_hub_matrix(X,delta,points,lbd,B,D)"
   ]
  },
  {
   "cell_type": "code",
   "execution_count": 13,
   "metadata": {},
   "outputs": [],
   "source": [
    "ans,AGM_loss = AGM(grad,points,step,0.001)"
   ]
  },
  {
   "cell_type": "code",
   "execution_count": 46,
   "metadata": {},
   "outputs": [],
   "source": [
    "groups = get_group(ans, tol=0.0001)"
   ]
  },
  {
   "cell_type": "code",
   "execution_count": 80,
   "metadata": {},
   "outputs": [
    {
     "data": {
      "text/plain": [
       "347"
      ]
     },
     "execution_count": 80,
     "metadata": {},
     "output_type": "execute_result"
    }
   ],
   "source": [
    "len(AGM_loss)"
   ]
  },
  {
   "cell_type": "markdown",
   "metadata": {},
   "source": [
    "## GM"
   ]
  },
  {
   "cell_type": "code",
   "execution_count": 30,
   "metadata": {},
   "outputs": [],
   "source": [
    "lbd = 0.05\n",
    "delta = 1e-3\n",
    "func = lambda X,B: loss_func(X,points,lbd,delta,B)\n",
    "grad = lambda X,B,D: grad_hub_matrix(X,delta,points,lbd,B,D)\n",
    "ans2,GM_loss = GM(points,func,grad,0.001)"
   ]
  },
  {
   "cell_type": "code",
   "execution_count": 24,
   "metadata": {},
   "outputs": [],
   "source": [
    "groups = get_group(ans2, tol=0.0001)"
   ]
  },
  {
   "cell_type": "code",
   "execution_count": 25,
   "metadata": {},
   "outputs": [
    {
     "data": {
      "text/plain": [
       "array([0, 0, 0, 0, 0, 0, 0, 0, 0, 0, 0, 0, 0, 0, 0, 0, 0, 0, 0, 0, 0, 0,\n",
       "       0, 0, 0, 0, 0, 0, 0, 0, 0, 0, 0, 0, 0, 0, 0, 0, 0, 0, 0, 0, 0, 0,\n",
       "       0, 0, 0, 0, 0, 0, 0, 0, 0, 0, 0, 0, 0, 0, 0, 0, 0, 0, 0, 0, 0, 0,\n",
       "       0, 0, 0, 0, 0, 0, 0, 0, 0, 0, 0, 0, 0, 0, 0, 0, 0, 0, 0, 0, 0, 0,\n",
       "       0, 0, 0, 0, 0, 0, 0, 0, 0, 0, 0, 0, 0, 0, 0, 0, 0, 0, 0, 0, 0, 0,\n",
       "       0, 0, 0, 0, 0, 0, 0, 0, 0, 0, 0, 0, 0, 0, 0, 0, 0, 0, 0, 0, 0, 0,\n",
       "       0, 0, 0, 0, 0, 0, 0, 0, 0, 0, 0, 0, 0, 0, 0, 0, 0, 0, 0, 0, 0, 0,\n",
       "       0, 0, 0, 0, 0, 0, 0, 0, 0, 0, 0, 0, 0, 0, 0, 0, 0, 0, 0, 0, 0, 0,\n",
       "       0, 0, 0, 0, 0, 0, 0, 0, 0, 0, 0, 0, 0, 0, 0, 0, 0, 0, 0, 0, 0, 0,\n",
       "       0, 0, 0, 0, 0, 0, 0, 0, 0, 0, 0, 0, 0, 0, 0, 0, 0, 0, 0, 0, 0, 0,\n",
       "       0, 0, 0, 0, 0, 0, 0, 0, 0, 0, 0, 0, 0, 0, 0, 0, 0, 0, 0, 0, 0, 0,\n",
       "       0, 0, 0, 0, 0, 0, 0, 0, 0, 0, 0, 0, 0, 0, 0, 0, 0, 0, 0, 0, 0, 0,\n",
       "       0, 0, 0, 0, 0, 0, 0, 0, 0, 0, 0, 0, 0, 0, 0, 0, 0, 0, 0, 0, 0, 0,\n",
       "       0, 0, 0, 0, 0, 0, 0, 0, 0, 0, 0, 0, 0, 0, 0, 0, 0, 0, 0, 0, 0, 0,\n",
       "       0, 0, 0, 0, 0, 0, 0, 0, 0, 0, 0, 0, 0, 0, 0, 0, 0, 0, 0, 0, 0, 0,\n",
       "       0, 0, 0, 0, 0, 0, 0, 0, 0, 0, 0, 0, 0, 0, 0, 0, 0, 0, 0, 0, 0, 0,\n",
       "       0, 0, 0, 0, 0, 0, 0, 0, 0, 0, 0, 0, 0, 0, 0, 0, 0, 0, 0, 0, 0, 0,\n",
       "       0, 0, 0, 0, 0, 0, 0, 0, 0, 0, 0, 0, 0, 0, 0, 0, 0, 0, 0, 0, 0, 0,\n",
       "       0, 0, 0, 0, 0, 0, 0, 0, 0, 0, 0, 0, 0, 0, 0, 0, 0, 0, 0, 0, 0, 0,\n",
       "       0, 0, 0, 0, 0, 0, 0, 0, 0, 0, 0, 0, 0, 0, 0, 0, 0, 0, 0, 0, 0, 0,\n",
       "       0, 0, 0, 0, 0, 0, 0, 0, 0, 0, 0, 0, 0, 0, 0, 0, 0, 0, 0, 0, 0, 0,\n",
       "       0, 0, 0, 0, 0, 0, 0, 0, 0, 0, 0, 0, 0, 0, 0, 0, 0, 0, 0, 0, 0, 0,\n",
       "       0, 0, 0, 0, 0, 0, 0, 0, 0, 0, 0, 0, 0, 0, 0, 0, 0, 0, 0, 0, 0, 0,\n",
       "       0, 0, 0, 0, 0, 0, 0, 0, 0, 0, 0, 0, 0, 0, 0, 0, 0, 0, 0, 0, 0, 0])"
      ]
     },
     "execution_count": 25,
     "metadata": {},
     "output_type": "execute_result"
    }
   ],
   "source": [
    "groups"
   ]
  },
  {
   "cell_type": "code",
   "execution_count": 31,
   "metadata": {},
   "outputs": [
    {
     "data": {
      "text/plain": [
       "Text(0.5,0,'Iters')"
      ]
     },
     "execution_count": 31,
     "metadata": {},
     "output_type": "execute_result"
    },
    {
     "data": {
      "image/png": "[encoded data removed]",
      "text/plain": [
       "<Figure size 432x288 with 1 Axes>"
      ]
     },
     "metadata": {},
     "output_type": "display_data"
    }
   ],
   "source": [
    "plt.plot(np.log(GM_loss - GM_loss[len(GM_loss)-1]))\n",
    "plt.ylabel(\"Loss: |f(xk) - f(x*)|\")\n",
    "plt.xlabel(\"Iters\")"
   ]
  },
  {
   "cell_type": "markdown",
   "metadata": {},
   "source": [
    "## GM_BB"
   ]
  },
  {
   "cell_type": "code",
   "execution_count": 32,
   "metadata": {},
   "outputs": [],
   "source": [
    "lbd = 0.05\n",
    "delta = 1e-3\n",
    "func = lambda X,B: loss_func(X,points,lbd,delta,B)\n",
    "grad = lambda X,B,D: grad_hub_matrix(X,delta,points,lbd,B,D)\n",
    "ans_BB,GM_BB_loss = GM_BB(points,func,grad,0.001)"
   ]
  },
  {
   "cell_type": "code",
   "execution_count": 19,
   "metadata": {},
   "outputs": [],
   "source": [
    "groups = get_group(ans_BB, tol=0.0001)"
   ]
  },
  {
   "cell_type": "code",
   "execution_count": 20,
   "metadata": {},
   "outputs": [
    {
     "data": {
      "text/plain": [
       "array([ 0,  0,  0,  0,  0,  0,  0,  0,  0,  0,  0,  0,  0,  1,  0,  0,  0,\n",
       "        0,  0,  0,  0,  0,  0,  0,  0,  0,  0,  0,  0,  0,  0,  0,  0,  0,\n",
       "        0,  0,  0,  0,  0,  0,  0,  0,  0,  0,  0,  0,  0,  0,  0,  0,  2,\n",
       "        0,  0,  0,  0,  0,  0,  0,  0,  3,  4,  4,  0,  5,  0,  6,  7,  0,\n",
       "        4,  8,  9, 10, 11, 12, 13, 14,  0, 15, 16, 17,  0,  0,  0,  4,  0,\n",
       "        0,  0,  0,  0,  0,  0,  0,  0,  0,  5, 18, 19,  0,  5, 20,  0,  0,\n",
       "        0,  0,  0, 21,  0,  0,  0,  0, 22,  0, 23,  0,  0, 24,  0,  0, 25,\n",
       "        0,  0, 26, 17, 27, 28,  0,  0, 29,  0,  0,  4,  4,  4,  4,  4,  4,\n",
       "       30, 31,  4,  4,  4,  4,  4,  4,  4,  4, 32,  4,  4,  4,  4,  4, 33,\n",
       "        4,  4,  4,  4, 34, 35, 35,  4,  4,  4,  4,  4,  4,  4,  4,  4, 36,\n",
       "        4,  4,  4,  4,  4,  4,  4,  4])"
      ]
     },
     "execution_count": 20,
     "metadata": {},
     "output_type": "execute_result"
    }
   ],
   "source": [
    "groups"
   ]
  },
  {
   "cell_type": "code",
   "execution_count": 34,
   "metadata": {},
   "outputs": [
    {
     "data": {
      "text/plain": [
       "<matplotlib.rc_context at 0x8211fd0>"
      ]
     },
     "execution_count": 34,
     "metadata": {},
     "output_type": "execute_result"
    }
   ],
   "source": [
    "plt.rc_context({'axes.edgecolor':'black', 'xtick.color':'black', 'ytick.color':'black', 'figure.facecolor':'white'})"
   ]
  },
  {
   "cell_type": "code",
   "execution_count": 35,
   "metadata": {},
   "outputs": [
    {
     "data": {
      "image/png": "[encoded data removed]",
      "text/plain": [
       "<Figure size 576x576 with 1 Axes>"
      ]
     },
     "metadata": {},
     "output_type": "display_data"
    }
   ],
   "source": [
    "plt.figure(figsize=(8,8))\n",
    "plt.ylabel(\"Loss: log(|f(xk) - f(x*)|)\")\n",
    "plt.plot(np.log(GM_BB_loss - GM_BB_loss[len(GM_BB_loss)-1]),label=\"GM_BB\")\n",
    "plt.plot(np.log(GM_loss - GM_loss[len(GM_loss)-1]),color=\"green\",label=\"GM\")\n",
    "plt.legend()\n",
    "plt.savefig(\"D:\\Study\\MDS\\Term 1\\Optimization\\Final\\Figure\\BB_GM_wine_Loss\")\n",
    "plt.show()"
   ]
  },
  {
   "cell_type": "markdown",
   "metadata": {},
   "source": [
    "## BFGS"
   ]
  },
  {
   "cell_type": "code",
   "execution_count": null,
   "metadata": {},
   "outputs": [],
   "source": [
    "lbd = 0.05\n",
    "delta = 1e-3\n",
    "func = lambda X,B: loss_func(X,points,lbd,delta,B)\n",
    "grad = lambda X,B,D: grad_hub_matrix(X,delta,points,lbd,B,D)\n",
    "ans_BFGS,BFGS_loss = BFGS(points,func,grad,0.003)"
   ]
  },
  {
   "cell_type": "code",
   "execution_count": null,
   "metadata": {},
   "outputs": [],
   "source": [
    "plt.figure(figsize=(5,5))\n",
    "plt.ylabel(\"Loss\")\n",
    "plt.plot(np.log(BFGS_loss - BFGS_loss[len(BFGS_loss)-1]))\n",
    "plt.show()"
   ]
  },
  {
   "cell_type": "markdown",
   "metadata": {},
   "source": [
    "## L-BFGS"
   ]
  },
  {
   "cell_type": "code",
   "execution_count": 37,
   "metadata": {},
   "outputs": [
    {
     "name": "stdout",
     "output_type": "stream",
     "text": [
      "alpha: 0.5\n",
      "alpha: 0.25\n",
      "step_size: 0.25\n",
      "s.T.dot(y): 2593.6525538780975\n",
      "Iter: 0\n",
      "norm_2:  90.70565123072659\n",
      "alpha: 0.5\n",
      "step_size: 0.5\n",
      "s.T.dot(y): 765.5737735462696\n",
      "Iter: 1\n",
      "norm_2:  85.41973602225413\n",
      "alpha: 0.5\n",
      "alpha: 0.25\n",
      "step_size: 0.25\n",
      "s.T.dot(y): 36.60431763785882\n",
      "Iter: 2\n",
      "norm_2:  77.46735166399904\n",
      "step_size: 1\n",
      "s.T.dot(y): 1.587763765166415\n",
      "Iter: 3\n",
      "norm_2:  77.10708113245919\n",
      "step_size: 1\n",
      "s.T.dot(y): 0.2024987151016214\n",
      "Iter: 4\n",
      "norm_2:  76.97527818228862\n",
      "step_size: 1\n",
      "s.T.dot(y): 0.017621515856358145\n",
      "Iter: 5\n",
      "norm_2:  76.99609313523159\n",
      "step_size: 1\n",
      "s.T.dot(y): 230.18984543406756\n",
      "Iter: 6\n",
      "norm_2:  63.84305814494382\n",
      "alpha: 0.5\n",
      "alpha: 0.25\n",
      "step_size: 0.25\n",
      "s.T.dot(y): 12.394149924114242\n",
      "Iter: 7\n",
      "norm_2:  76.78655541700783\n",
      "alpha: 0.5\n",
      "step_size: 0.5\n",
      "s.T.dot(y): 0.3495888498728381\n",
      "Iter: 8\n",
      "norm_2:  77.02122958518159\n",
      "alpha: 0.5\n",
      "step_size: 0.5\n",
      "s.T.dot(y): 0.1609284532554358\n",
      "Iter: 9\n",
      "norm_2:  77.50806093229242\n",
      "alpha: 0.5\n",
      "step_size: 0.5\n",
      "s.T.dot(y): 0.36000684484842665\n",
      "Iter: 10\n",
      "norm_2:  77.6141602918559\n",
      "alpha: 0.5\n",
      "step_size: 0.5\n",
      "s.T.dot(y): 75.29749832943428\n",
      "Iter: 11\n",
      "norm_2:  91.36909993941447\n",
      "step_size: 1\n",
      "s.T.dot(y): 13.646346655965935\n",
      "Iter: 12\n",
      "norm_2:  86.27740384545503\n",
      "step_size: 1\n",
      "s.T.dot(y): 0.5414160402181754\n",
      "Iter: 13\n",
      "norm_2:  86.06183439045533\n",
      "step_size: 1\n",
      "s.T.dot(y): 1.4436790386807905\n",
      "Iter: 14\n",
      "norm_2:  84.13174054731323\n",
      "step_size: 1\n",
      "s.T.dot(y): 0.35886237077554384\n",
      "Iter: 15\n",
      "norm_2:  83.31340855566377\n",
      "step_size: 1\n",
      "s.T.dot(y): 39.3121746328619\n",
      "Iter: 16\n",
      "norm_2:  64.49573529772746\n",
      "step_size: 1\n",
      "s.T.dot(y): 5.402253608678518\n",
      "Iter: 17\n",
      "norm_2:  68.84835591548696\n",
      "step_size: 1\n",
      "s.T.dot(y): 0.3248150609690765\n",
      "Iter: 18\n",
      "norm_2:  68.61051826594895\n",
      "step_size: 1\n",
      "s.T.dot(y): 0.3362153527391768\n",
      "Iter: 19\n",
      "norm_2:  69.09710798860343\n",
      "step_size: 1\n",
      "s.T.dot(y): 0.01979530916025108\n",
      "Iter: 20\n",
      "norm_2:  69.02278218056244\n",
      "step_size: 1\n",
      "s.T.dot(y): 18.298245776843938\n",
      "Iter: 21\n",
      "norm_2:  87.80909914785926\n",
      "alpha: 0.5\n",
      "step_size: 0.5\n",
      "s.T.dot(y): 1.9817090149212584\n",
      "Iter: 22\n",
      "norm_2:  88.75222422524212\n",
      "step_size: 1\n",
      "s.T.dot(y): 0.39587548717469245\n",
      "Iter: 23\n",
      "norm_2:  90.62449508123159\n",
      "step_size: 1\n",
      "s.T.dot(y): 0.48103790072010155\n",
      "Iter: 24\n",
      "norm_2:  90.5253241945104\n",
      "step_size: 1\n",
      "s.T.dot(y): 0.018764030681357013\n",
      "Iter: 25\n",
      "norm_2:  90.1919749743814\n",
      "step_size: 1\n",
      "s.T.dot(y): 16.13506712209874\n",
      "Iter: 26\n",
      "norm_2:  72.39864210701809\n",
      "step_size: 1\n",
      "s.T.dot(y): 0.7291400290484579\n",
      "Iter: 27\n",
      "norm_2:  71.16744451511383\n",
      "step_size: 1\n",
      "s.T.dot(y): 0.21885463562423435\n",
      "Iter: 28\n",
      "norm_2:  69.48435858610308\n",
      "step_size: 1\n",
      "s.T.dot(y): 0.10226353200039173\n",
      "Iter: 29\n",
      "norm_2:  69.64699749213626\n",
      "step_size: 1\n",
      "s.T.dot(y): 0.005790624565058128\n",
      "Iter: 30\n",
      "norm_2:  69.68073423455148\n",
      "step_size: 1\n",
      "s.T.dot(y): 3.8471143879978547\n",
      "Iter: 31\n",
      "norm_2:  67.82466501182627\n",
      "alpha: 0.5\n",
      "step_size: 0.5\n",
      "s.T.dot(y): 2.242824174342419\n",
      "Iter: 32\n",
      "norm_2:  83.48956895842949\n",
      "alpha: 0.5\n",
      "step_size: 0.5\n",
      "s.T.dot(y): 0.07812113951181458\n",
      "Iter: 33\n",
      "norm_2:  86.19352091287503\n",
      "alpha: 0.5\n",
      "step_size: 0.5\n",
      "s.T.dot(y): 0.12934322078322172\n",
      "Iter: 34\n",
      "norm_2:  87.62782096542234\n",
      "step_size: 1\n",
      "s.T.dot(y): 0.02357104348988758\n",
      "Iter: 35\n",
      "norm_2:  87.93843158531526\n",
      "alpha: 0.5\n",
      "step_size: 0.5\n",
      "s.T.dot(y): 0.9797827053414424\n",
      "Iter: 36\n",
      "norm_2:  85.23850516286458\n",
      "step_size: 1\n",
      "s.T.dot(y): 1.609443462514488\n",
      "Iter: 37\n",
      "norm_2:  66.5825735966474\n",
      "step_size: 1\n",
      "s.T.dot(y): 0.1342744575484441\n",
      "Iter: 38\n",
      "norm_2:  63.124345559431184\n",
      "step_size: 1\n",
      "s.T.dot(y): 0.10396132397455232\n",
      "Iter: 39\n",
      "norm_2:  63.185283033714065\n",
      "step_size: 1\n",
      "s.T.dot(y): 0.028646132994659772\n",
      "Iter: 40\n",
      "norm_2:  63.43552910059678\n",
      "step_size: 1\n",
      "s.T.dot(y): 0.34183267120183286\n",
      "Iter: 41\n",
      "norm_2:  50.64279075556313\n",
      "step_size: 1\n",
      "s.T.dot(y): 0.2980515387141095\n",
      "Iter: 42\n",
      "norm_2:  25.928235380126836\n",
      "step_size: 1\n",
      "s.T.dot(y): 0.014539546027401862\n",
      "Iter: 43\n",
      "norm_2:  23.597223448463364\n",
      "step_size: 1\n",
      "s.T.dot(y): 0.029233944940007427\n",
      "Iter: 44\n",
      "norm_2:  18.1401963664645\n",
      "step_size: 1\n",
      "s.T.dot(y): 0.009918452061397305\n",
      "Iter: 45\n",
      "norm_2:  15.794151312567516\n",
      "step_size: 1\n",
      "s.T.dot(y): 0.023856476623546008\n",
      "Iter: 46\n",
      "norm_2:  7.052869326338943\n",
      "step_size: 1\n",
      "s.T.dot(y): 0.005616226032861444\n",
      "Iter: 47\n",
      "norm_2:  1.3456474678264712\n",
      "step_size: 1\n",
      "s.T.dot(y): 4.2360886945010615e-05\n",
      "Iter: 48\n",
      "norm_2:  1.1973810220414296\n",
      "step_size: 1\n",
      "s.T.dot(y): 0.00011365293588509821\n",
      "Iter: 49\n",
      "norm_2:  0.6496895640472525\n",
      "step_size: 1\n",
      "s.T.dot(y): 2.39287753472806e-05\n",
      "Iter: 50\n",
      "norm_2:  0.457281642170114\n",
      "step_size: 1\n",
      "s.T.dot(y): 2.111324228369553e-05\n",
      "Iter: 51\n",
      "norm_2:  0.14552501743232552\n",
      "step_size: 1\n",
      "s.T.dot(y): 2.379230496710043e-06\n",
      "Iter: 52\n",
      "norm_2:  6.8878840247652555e-06\n"
     ]
    }
   ],
   "source": [
    "lbd = 0.05\n",
    "delta = 1e-3\n",
    "func = lambda X,B: loss_func(X,points,lbd,delta,B)\n",
    "grad = lambda X,B,D: grad_hub_matrix(X,delta,points,lbd,B,D)\n",
    "ans_LBFGS,LBFGS_loss = LBFGS(points,func,grad,0.005,1,5)"
   ]
  },
  {
   "cell_type": "code",
   "execution_count": 38,
   "metadata": {},
   "outputs": [
    {
     "data": {
      "image/png": "[encoded data removed]",
      "text/plain": [
       "<Figure size 360x360 with 1 Axes>"
      ]
     },
     "metadata": {},
     "output_type": "display_data"
    }
   ],
   "source": [
    "plt.figure(figsize=(5,5))\n",
    "plt.ylabel(\"Loss\")\n",
    "plt.plot(np.log(LBFGS_loss - LBFGS_loss[len(LBFGS_loss)-1]))\n",
    "plt.show()"
   ]
  },
  {
   "cell_type": "markdown",
   "metadata": {},
   "source": []
  }
 ],
 "metadata": {
  "interpreter": {
   "hash": "9bdf06afc69a32d5f3ec9f65bcfbbd24b00f75076ba123f99bdec13062385957"
  },
  "kernelspec": {
   "display_name": "Python 3.7.0 32-bit ('base': conda)",
   "language": "python",
   "name": "python3"
  },
  "language_info": {
   "codemirror_mode": {
    "name": "ipython",
    "version": 3
   },
   "file_extension": ".py",
   "mimetype": "text/x-python",
   "name": "python",
   "nbconvert_exporter": "python",
   "pygments_lexer": "ipython3",
   "version": "3.7.0"
  },
  "orig_nbformat": 4
 },
 "nbformat": 4,
 "nbformat_minor": 2
}
