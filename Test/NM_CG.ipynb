{
 "cells": [
  {
   "cell_type": "code",
   "execution_count": 1,
   "metadata": {},
   "outputs": [
    {
     "name": "stderr",
     "output_type": "stream",
     "text": [
      "c:\\Users\\15161\\Anaconda3\\lib\\site-packages\\numpy\\core\\getlimits.py:172: RuntimeWarning: divide by zero encountered in exp2\n",
      "  eps=exp2(ld(-112)),\n",
      "c:\\Users\\15161\\Anaconda3\\lib\\site-packages\\numpy\\core\\getlimits.py:51: RuntimeWarning: divide by zero encountered in log10\n",
      "  self.precision = int(-log10(self.eps))\n",
      "c:\\Users\\15161\\Anaconda3\\lib\\site-packages\\numpy\\core\\getlimits.py:52: RuntimeWarning: divide by zero encountered in power\n",
      "  self.resolution = float_to_float(float_conv(10) ** (-self.precision))\n",
      "c:\\Users\\15161\\Anaconda3\\lib\\site-packages\\numpy\\core\\getlimits.py:184: RuntimeWarning: divide by zero encountered in exp2\n",
      "  epsneg_f80 = exp2(ld(-64))\n",
      "c:\\Users\\15161\\Anaconda3\\lib\\site-packages\\numpy\\core\\getlimits.py:185: RuntimeWarning: divide by zero encountered in exp2\n",
      "  tiny_f80 = exp2(ld(-16382))\n",
      "c:\\Users\\15161\\Anaconda3\\lib\\site-packages\\numpy\\core\\getlimits.py:199: RuntimeWarning: divide by zero encountered in exp2\n",
      "  eps=exp2(ld(-63)),\n",
      "c:\\Users\\15161\\Anaconda3\\lib\\site-packages\\numpy\\core\\getlimits.py:212: RuntimeWarning: divide by zero encountered in nextafter\n",
      "  if hasattr(umath, 'nextafter')  # Missing on some platforms?\n",
      "c:\\Users\\15161\\Anaconda3\\lib\\site-packages\\numpy\\core\\getlimits.py:224: RuntimeWarning: divide by zero encountered in exp2\n",
      "  eps=exp2(ld(-105)),\n",
      "c:\\Users\\15161\\Anaconda3\\lib\\site-packages\\numpy\\core\\getlimits.py:225: RuntimeWarning: divide by zero encountered in exp2\n",
      "  epsneg= exp2(ld(-106)),\n",
      "c:\\Users\\15161\\Anaconda3\\lib\\site-packages\\numpy\\core\\getlimits.py:227: RuntimeWarning: divide by zero encountered in exp2\n",
      "  tiny=exp2(ld(-1022)))\n",
      "c:\\Users\\15161\\Anaconda3\\lib\\site-packages\\numpy\\__init__.py:350: RuntimeWarning: divide by zero encountered in subtract\n",
      "  if not abs(x.dot(x) - 2.0) < 1e-5:\n",
      "c:\\Users\\15161\\Anaconda3\\lib\\site-packages\\numpy\\__init__.py:350: RuntimeWarning: divide by zero encountered in absolute\n",
      "  if not abs(x.dot(x) - 2.0) < 1e-5:\n",
      "c:\\Users\\15161\\Anaconda3\\lib\\site-packages\\numpy\\core\\function_base.py:127: RuntimeWarning: divide by zero encountered in multiply\n",
      "  start = asanyarray(start) * 1.0\n",
      "c:\\Users\\15161\\Anaconda3\\lib\\site-packages\\numpy\\core\\function_base.py:128: RuntimeWarning: divide by zero encountered in multiply\n",
      "  stop  = asanyarray(stop)  * 1.0\n",
      "c:\\Users\\15161\\Anaconda3\\lib\\site-packages\\numpy\\core\\function_base.py:134: RuntimeWarning: divide by zero encountered in double_scalars\n",
      "  delta = stop - start\n",
      "c:\\Users\\15161\\Anaconda3\\lib\\site-packages\\numpy\\core\\function_base.py:141: RuntimeWarning: divide by zero encountered in double_scalars\n",
      "  step = delta / div\n",
      "c:\\Users\\15161\\Anaconda3\\lib\\site-packages\\numpy\\core\\_methods.py:57: RuntimeWarning: divide by zero encountered in reduce\n",
      "  return umr_any(a, axis, dtype, out, keepdims)\n",
      "c:\\Users\\15161\\Anaconda3\\lib\\site-packages\\numpy\\core\\function_base.py:151: RuntimeWarning: divide by zero encountered in multiply\n",
      "  y *= step\n",
      "c:\\Users\\15161\\Anaconda3\\lib\\site-packages\\numpy\\core\\function_base.py:161: RuntimeWarning: divide by zero encountered in add\n",
      "  y += start\n",
      "c:\\Users\\15161\\Anaconda3\\lib\\site-packages\\matplotlib\\path.py:206: RuntimeWarning: divide by zero encountered in isfinite\n",
      "  self._has_nonfinite = not np.isfinite(self._vertices).all()\n",
      "c:\\Users\\15161\\Anaconda3\\lib\\site-packages\\numpy\\core\\_methods.py:63: RuntimeWarning: divide by zero encountered in reduce\n",
      "  return umr_all(a, axis, dtype, out, keepdims)\n",
      "c:\\Users\\15161\\Anaconda3\\lib\\site-packages\\matplotlib\\path.py:142: RuntimeWarning: divide by zero encountered in not_equal\n",
      "  if len(codes) and codes[0] != self.MOVETO:\n",
      "c:\\Users\\15161\\Anaconda3\\lib\\site-packages\\matplotlib\\collections.py:29: RuntimeWarning: divide by zero encountered in sqrt\n",
      "  CIRCLE_AREA_FACTOR = 1.0 / np.sqrt(np.pi)\n",
      "c:\\Users\\15161\\Anaconda3\\lib\\site-packages\\matplotlib\\collections.py:29: RuntimeWarning: divide by zero encountered in double_scalars\n",
      "  CIRCLE_AREA_FACTOR = 1.0 / np.sqrt(np.pi)\n",
      "c:\\Users\\15161\\Anaconda3\\lib\\site-packages\\matplotlib\\tri\\triinterpolate.py:688: RuntimeWarning: divide by zero encountered in true_divide\n",
      "  gauss_w = np.ones([9], dtype=np.float64) / 9.\n",
      "c:\\Users\\15161\\Anaconda3\\lib\\site-packages\\scipy\\optimize\\optimize.py:161: RuntimeWarning: divide by zero encountered in sqrt\n",
      "  _epsilon = sqrt(np.finfo(float).eps)\n",
      "c:\\Users\\15161\\Anaconda3\\lib\\site-packages\\scipy\\optimize\\slsqp.py:32: RuntimeWarning: divide by zero encountered in sqrt\n",
      "  _epsilon = sqrt(finfo(float).eps)\n",
      "c:\\Users\\15161\\Anaconda3\\lib\\site-packages\\scipy\\optimize\\zeros.py:10: RuntimeWarning: divide by zero encountered in double_scalars\n",
      "  _rtol = 4 * np.finfo(float).eps\n",
      "c:\\Users\\15161\\Anaconda3\\lib\\site-packages\\scipy\\integrate\\_ivp\\common.py:240: RuntimeWarning: divide by zero encountered in double_scalars\n",
      "  NUM_JAC_DIFF_REJECT = EPS ** 0.875\n",
      "c:\\Users\\15161\\Anaconda3\\lib\\site-packages\\scipy\\integrate\\_ivp\\common.py:241: RuntimeWarning: divide by zero encountered in double_scalars\n",
      "  NUM_JAC_DIFF_SMALL = EPS ** 0.75\n",
      "c:\\Users\\15161\\Anaconda3\\lib\\site-packages\\scipy\\integrate\\_ivp\\common.py:242: RuntimeWarning: divide by zero encountered in double_scalars\n",
      "  NUM_JAC_DIFF_BIG = EPS ** 0.25\n",
      "c:\\Users\\15161\\Anaconda3\\lib\\site-packages\\scipy\\integrate\\_ivp\\common.py:243: RuntimeWarning: divide by zero encountered in double_scalars\n",
      "  NUM_JAC_MIN_FACTOR = 1e3 * EPS\n",
      "c:\\Users\\15161\\Anaconda3\\lib\\site-packages\\scipy\\integrate\\_ivp\\radau.py:15: RuntimeWarning: divide by zero encountered in true_divide\n",
      "  E = np.array([-13 - 7 * S6, -13 + 7 * S6, -1]) / 3\n",
      "c:\\Users\\15161\\Anaconda3\\lib\\site-packages\\scipy\\integrate\\_ivp\\radau.py:34: RuntimeWarning: divide by zero encountered in multiply\n",
      "  TI_COMPLEX = TI[1] + 1j * TI[2]\n",
      "c:\\Users\\15161\\Anaconda3\\lib\\site-packages\\scipy\\integrate\\_ivp\\radau.py:34: RuntimeWarning: divide by zero encountered in add\n",
      "  TI_COMPLEX = TI[1] + 1j * TI[2]\n",
      "c:\\Users\\15161\\Anaconda3\\lib\\site-packages\\scipy\\integrate\\_ivp\\dop853_coefficients.py:127: RuntimeWarning: divide by zero encountered in double_scalars\n",
      "  E3[0] -= 0.244094488188976377952755905512\n",
      "c:\\Users\\15161\\Anaconda3\\lib\\site-packages\\scipy\\integrate\\_ivp\\dop853_coefficients.py:128: RuntimeWarning: divide by zero encountered in double_scalars\n",
      "  E3[8] -= 0.733846688281611857341361741547\n",
      "c:\\Users\\15161\\Anaconda3\\lib\\site-packages\\scipy\\integrate\\_ivp\\dop853_coefficients.py:129: RuntimeWarning: divide by zero encountered in double_scalars\n",
      "  E3[11] -= 0.220588235294117647058823529412e-1\n",
      "c:\\Users\\15161\\Anaconda3\\lib\\site-packages\\scipy\\stats\\_constants.py:16: RuntimeWarning: divide by zero encountered in log\n",
      "  _LOGXMAX = np.log(_XMAX)\n",
      "c:\\Users\\15161\\Anaconda3\\lib\\site-packages\\scipy\\stats\\_ksstats.py:74: RuntimeWarning: divide by zero encountered in ldexp\n",
      "  _EP128 = np.ldexp(np.longdouble(1), _E128)\n",
      "c:\\Users\\15161\\Anaconda3\\lib\\site-packages\\scipy\\stats\\_ksstats.py:75: RuntimeWarning: divide by zero encountered in ldexp\n",
      "  _EM128 = np.ldexp(np.longdouble(1), -_E128)\n",
      "c:\\Users\\15161\\Anaconda3\\lib\\site-packages\\scipy\\stats\\_ksstats.py:77: RuntimeWarning: divide by zero encountered in sqrt\n",
      "  _SQRT2PI = np.sqrt(2 * np.pi)\n",
      "c:\\Users\\15161\\Anaconda3\\lib\\site-packages\\scipy\\stats\\_ksstats.py:78: RuntimeWarning: divide by zero encountered in log\n",
      "  _LOG_2PI = np.log(2 * np.pi)\n",
      "c:\\Users\\15161\\Anaconda3\\lib\\site-packages\\scipy\\stats\\_ksstats.py:80: RuntimeWarning: divide by zero encountered in sqrt\n",
      "  _SQRT3 = np.sqrt(3)\n",
      "c:\\Users\\15161\\Anaconda3\\lib\\site-packages\\scipy\\stats\\_continuous_distns.py:245: RuntimeWarning: divide by zero encountered in sqrt\n",
      "  _norm_pdf_C = np.sqrt(2*np.pi)\n",
      "c:\\Users\\15161\\Anaconda3\\lib\\site-packages\\scipy\\stats\\_continuous_distns.py:246: RuntimeWarning: divide by zero encountered in log\n",
      "  _norm_pdf_logC = np.log(_norm_pdf_C)\n",
      "c:\\Users\\15161\\Anaconda3\\lib\\site-packages\\scipy\\stats\\stats.py:2692: RuntimeWarning: divide by zero encountered in erfinv\n",
      "  'normal': special.erfinv(0.5) * 2.0 * math.sqrt(2.0)}\n",
      "c:\\Users\\15161\\Anaconda3\\lib\\site-packages\\scipy\\stats\\stats.py:2692: RuntimeWarning: divide by zero encountered in double_scalars\n",
      "  'normal': special.erfinv(0.5) * 2.0 * math.sqrt(2.0)}\n",
      "c:\\Users\\15161\\Anaconda3\\lib\\site-packages\\scipy\\stats\\_multivariate.py:31: RuntimeWarning: divide by zero encountered in log\n",
      "  _LOG_2PI = np.log(2 * np.pi)\n",
      "c:\\Users\\15161\\Anaconda3\\lib\\site-packages\\scipy\\stats\\_multivariate.py:32: RuntimeWarning: divide by zero encountered in log\n",
      "  _LOG_2 = np.log(2)\n",
      "c:\\Users\\15161\\Anaconda3\\lib\\site-packages\\scipy\\stats\\_multivariate.py:33: RuntimeWarning: divide by zero encountered in log\n",
      "  _LOG_PI = np.log(np.pi)\n",
      "c:\\Users\\15161\\Anaconda3\\lib\\site-packages\\scipy\\stats\\_mannwhitneyu.py:25: RuntimeWarning: divide by zero encountered in negative\n",
      "  self._fmnks = -np.ones((1, 1, 1))\n",
      "c:\\Users\\15161\\Anaconda3\\lib\\importlib\\_bootstrap.py:219: RuntimeWarning: divide by zero encountered in add\n",
      "  return f(*args, **kwds)\n"
     ]
    }
   ],
   "source": [
    "import sys\n",
    "sys.path.append('..')\n",
    "\n",
    "from Tools.plot import *\n",
    "from Tools.gen import *\n",
    "# from load_data import *  \n",
    "from Tools.func_tools import *\n",
    "from Algorithm.AGM import *\n",
    "from Algorithm.GM import *\n",
    "# from BFGS import *\n",
    "from Algorithm.Newton_CG import *\n",
    "import warnings\n",
    "warnings.filterwarnings('ignore')"
   ]
  },
  {
   "cell_type": "code",
   "execution_count": 3,
   "metadata": {},
   "outputs": [],
   "source": [
    "centroids, points, N = gen_data() "
   ]
  },
  {
   "cell_type": "code",
   "execution_count": 4,
   "metadata": {},
   "outputs": [],
   "source": [
    "lbd = 0.05\n",
    "delta = 0.01\n",
    "cg_max = 10\n",
    "tol = 1\n",
    "cg_tol_k = 1 # 可以使用同样的tol\n",
    "alpha0 = 1\n",
    "gamma = 0.01\n",
    "sigma = 0.5\n",
    "n = points.shape[0]\n",
    "d = points.shape[1]\n",
    "B = gen_B(n,sparse=False)\n",
    "func = lambda X, B: loss_func(X,points,lbd,delta,B)\n",
    "h_obj = OBJ(d, n, delta)\n",
    "grad = lambda X: grad_hub_matrix(X,delta,points,lbd,B,B.T)\n",
    "HessianP = lambda X: h_obj.hessiant(X.T, h_obj.grad(X.T, points.T, lbd).reshape((d,n)), lbd)\n",
    "bck = lambda X, gk, dk: backtrack(X, func, gk, dk,B,alpha0,gamma,sigma)"
   ]
  },
  {
   "cell_type": "code",
   "execution_count": 5,
   "metadata": {},
   "outputs": [
    {
     "name": "stdout",
     "output_type": "stream",
     "text": [
      "25.37348552958234 1\n",
      "9.66822453835963 1\n",
      "3.434590506847723 0.25\n",
      "not the first step 10.623097716268093 614.7125373126106 45.884593033848894 3.813938794458891\n",
      "2.196683691248966 0.125\n",
      "0.9672625232971412 0.125\n"
     ]
    }
   ],
   "source": [
    "ans3, CG_loss = NewtonCG(grad, HessianP, bck, np.zeros_like(points), cg_max, cg_tol_k, tol)"
   ]
  },
  {
   "cell_type": "code",
   "execution_count": 6,
   "metadata": {},
   "outputs": [
    {
     "data": {
      "image/png": "[encoded data removed]",
      "text/plain": [
       "<Figure size 720x720 with 1 Axes>"
      ]
     },
     "metadata": {},
     "output_type": "display_data"
    }
   ],
   "source": [
    "groups = get_group(ans3, tol=2)\n",
    "plt.figure(figsize=(10,10))\n",
    "plot_res_data(points,ans3,groups)"
   ]
  },
  {
   "cell_type": "code",
   "execution_count": 7,
   "metadata": {},
   "outputs": [
    {
     "data": {
      "text/plain": [
       "[<matplotlib.lines.Line2D at 0x16fd222aa08>]"
      ]
     },
     "execution_count": 7,
     "metadata": {},
     "output_type": "execute_result"
    },
    {
     "data": {
      "image/png": "[encoded data removed]",
      "text/plain": [
       "<Figure size 432x288 with 1 Axes>"
      ]
     },
     "metadata": {},
     "output_type": "display_data"
    }
   ],
   "source": [
    "plt.plot(np.log(CG_loss))"
   ]
  }
 ],
 "metadata": {
  "interpreter": {
   "hash": "121e35e06bd96ce865e0dc170b53691737f86917b152cf0f4b2af4095028a7b2"
  },
  "kernelspec": {
   "display_name": "Python 3.7.0 32-bit ('Anaconda3')",
   "language": "python",
   "name": "python3"
  },
  "language_info": {
   "codemirror_mode": {
    "name": "ipython",
    "version": 3
   },
   "file_extension": ".py",
   "mimetype": "text/x-python",
   "name": "python",
   "nbconvert_exporter": "python",
   "pygments_lexer": "ipython3",
   "version": "3.7.0"
  },
  "orig_nbformat": 4
 },
 "nbformat": 4,
 "nbformat_minor": 2
}
